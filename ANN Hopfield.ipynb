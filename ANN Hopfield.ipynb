{
 "cells": [
  {
   "cell_type": "code",
   "execution_count": 1,
   "id": "40fd8996-3829-4187-84cc-8c7f65b391a1",
   "metadata": {},
   "outputs": [],
   "source": [
    "import numpy as np"
   ]
  },
  {
   "cell_type": "code",
   "execution_count": 4,
   "id": "46a02781-b952-4282-b382-323d4066703a",
   "metadata": {},
   "outputs": [],
   "source": [
    "class HopfieldNetwork:\n",
    "    def __init__(self, num_neurons):\n",
    "        self.num_neurons = num_neurons\n",
    "        self.weights = np.zeros((num_neurons, num_neurons))\n",
    "\n",
    "    def activation(self,x):\n",
    "        return np.where(x>0,1,-1)\n",
    "\n",
    "    def train(self, vectors):\n",
    "        num_vectors = len(vectors)\n",
    "        for vector in vectors:\n",
    "            vector = np.reshape(vector, (self.num_neurons, 1))\n",
    "            self.weights += np.dot(vector, vector.T)\n",
    "        np.fill_diagonal(self.weights,0)\n",
    "#         print(\"weights : \",self.weights)\n",
    "#         print()\n",
    "        \n",
    "    def recall(self, input_vector):\n",
    "        output=np.dot(self.weights,input_vector)\n",
    "        output=self.activation(output)\n",
    "#         output=np.sign(output)\n",
    "        return output"
   ]
  },
  {
   "cell_type": "code",
   "execution_count": 6,
   "id": "85ba48dc-363e-4be7-9cd6-c6cbd1fa06b4",
   "metadata": {},
   "outputs": [
    {
     "name": "stdout",
     "output_type": "stream",
     "text": [
      "Input: [-1 -1 -1 -1  1  1  1  1]\n",
      "Output: [-1 -1 -1 -1 -1  1  1  1]\n",
      "\n",
      "Input: [ 0  1  1  1  1 -1 -1 -1]\n",
      "Output: [ 1  1  1  1 -1 -1 -1 -1]\n",
      "\n",
      "Input: [ 1 -1  0 -1  1  1 -1  1]\n",
      "Output: [-1 -1  1 -1  1  1 -1  1]\n",
      "\n"
     ]
    }
   ],
   "source": [
    "network = HopfieldNetwork(8)\n",
    "\n",
    "vectors = np.array([[-1, -1, -1, -1, 1, 1, 1, 1],\n",
    "                    [1, 1, 1, 1, 1, -1, -1, -1],\n",
    "                    [1, -1, 1, -1, 1, 1, -1, 1],\n",
    "                    [-1, 1, 1, -1, -1, 1, 1, 1]])\n",
    "\n",
    "\n",
    "network.train(vectors)\n",
    "\n",
    "test = np.array([[-1, -1, -1, -1, 1, 1, 1, 1],\n",
    "                    [0, 1, 1, 1, 1, -1, -1, -1],\n",
    "                    [1, -1, 0, -1, 1, 1, -1, 1],\n",
    "                    ])\n",
    "\n",
    "for vector in test:\n",
    "    output = network.recall(vector)\n",
    "    print(\"Input:\", vector)\n",
    "    print(\"Output:\", output)\n",
    "    print()\n"
   ]
  },
  {
   "cell_type": "code",
   "execution_count": null,
   "id": "0659d13e-68eb-46f5-99ad-fb142fecaf96",
   "metadata": {},
   "outputs": [],
   "source": []
  },
  {
   "cell_type": "code",
   "execution_count": null,
   "id": "386529d8",
   "metadata": {},
   "outputs": [],
   "source": []
  }
 ],
 "metadata": {
  "kernelspec": {
   "display_name": "Python 3 (ipykernel)",
   "language": "python",
   "name": "python3"
  },
  "language_info": {
   "codemirror_mode": {
    "name": "ipython",
    "version": 3
   },
   "file_extension": ".py",
   "mimetype": "text/x-python",
   "name": "python",
   "nbconvert_exporter": "python",
   "pygments_lexer": "ipython3",
   "version": "3.11.5"
  }
 },
 "nbformat": 4,
 "nbformat_minor": 5
}
