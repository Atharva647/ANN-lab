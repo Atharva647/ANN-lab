{
 "cells": [
  {
   "cell_type": "code",
   "execution_count": 1,
   "id": "779373ef",
   "metadata": {},
   "outputs": [],
   "source": [
    "import numpy as np\n",
    "\n"
   ]
  },
  {
   "cell_type": "code",
   "execution_count": null,
   "id": "7edec85c",
   "metadata": {},
   "outputs": [],
   "source": [
    "class Art:\n",
    "    def __init__(self, n, m, rho):\n",
    "        self.n = n\n",
    "        self.m = m\n",
    "        self.rho = rho\n",
    "        self.W = np.random.rand(self.m, self.n)  # Initialize weights\n",
    "\n",
    "    def train(self, X):\n",
    "\n",
    "        for x in X:\n",
    "            # Compute the choice function\n",
    "            T = np.dot(self.W, x) / (0.5 + np.sum(self.W, axis=1))\n",
    "            # Find the winning neuron\n",
    "            winner = np.argmax(T)\n",
    "            # Check if the winning neuron's choice value is above the vigilance parameter\n",
    "            if T[winner] >= self.rho:\n",
    "                # Update weights\n",
    "                self.W[winner] = x * self.W[winner] / (0.5 + np.sum(x * self.W[winner]))\n",
    "            else:\n",
    "                # If not, reset the weights (simplified version of the reset mechanism)\n",
    "                self.W[winner] = np.random.rand(self.n)\n",
    "\n",
    "    def predict(self, x):\n",
    "    \n",
    "        # Compute the choice function for prediction\n",
    "        T = np.dot(self.W, x) / (0.5 + np.sum(self.W, axis=1))\n",
    "        # Return the index of the winning neuron\n",
    "        return np.argmax(T)\n",
    "\n",
    "# Dynamic input from the user\n",
    "n = int(input(\"Enter the number of components in the input vector: \"))\n",
    "m = int(input(\"Enter the number of neurons in the competition layer: \"))\n",
    "rho = float(input(\"Enter the vigilance parameter (0 < rho < 1): \"))\n",
    "\n",
    "# Create an ART instance\n",
    "art = Art(n, m, rho)\n",
    "\n",
    "# Get the number of input vectors for training\n",
    "num_vectors = int(input(\"Enter the number of input vectors for training: \"))\n",
    "X = []\n",
    "print(\"Enter the input vectors for training:\")\n",
    "for _ in range(num_vectors):\n",
    "    vector = list(map(int, input().split()))\n",
    "    X.append(vector)\n",
    "X = np.array(X)\n",
    "\n",
    "# Train the ART network\n",
    "art.train(X)\n",
    "\n",
    "# Get the new input vector for prediction\n",
    "print(\"Enter the new input vector for prediction:\")\n",
    "new_input = list(map(int, input().split()))\n",
    "new_input = np.array(new_input)\n",
    "\n",
    "# Predict the category of the new input vector\n",
    "category = art.predict(new_input)\n",
    "\n",
    "print(f\"The input vector {new_input} belongs to category {category}\")\n",
    "#n=5, m=10, rho=0.5\n",
    "#                   [1, 0, 0, 0, 0],\n",
    "#                   [0, 1, 0, 0, 0],\n",
    "#                   [1, 1, 0, 0, 0],\n",
    "#                   [0, 0, 1, 1, 0],\n",
    "#                   [0, 0, 0, 1, 1]"
   ]
  }
 ],
 "metadata": {
  "kernelspec": {
   "display_name": "Python 3 (ipykernel)",
   "language": "python",
   "name": "python3"
  },
  "language_info": {
   "codemirror_mode": {
    "name": "ipython",
    "version": 3
   },
   "file_extension": ".py",
   "mimetype": "text/x-python",
   "name": "python",
   "nbconvert_exporter": "python",
   "pygments_lexer": "ipython3",
   "version": "3.9.12"
  }
 },
 "nbformat": 4,
 "nbformat_minor": 5
}
