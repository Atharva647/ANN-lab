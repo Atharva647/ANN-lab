{
 "cells": [
  {
   "cell_type": "code",
   "execution_count": 1,
   "id": "4ce3b9cc",
   "metadata": {},
   "outputs": [],
   "source": [
    "\n",
    "\n",
    "w1=1\n",
    "w2=1\n"
   ]
  },
  {
   "cell_type": "code",
   "execution_count": 2,
   "id": "fb93eca6",
   "metadata": {},
   "outputs": [],
   "source": [
    "def aggregation(x1,x2,w1,w2):\n",
    "    return x1*w1+x2*w2\n",
    "    "
   ]
  },
  {
   "cell_type": "code",
   "execution_count": 3,
   "id": "8d1b02af",
   "metadata": {},
   "outputs": [],
   "source": [
    "def threshold(z,t):\n",
    "    return 1 if z<t else 0"
   ]
  },
  {
   "cell_type": "code",
   "execution_count": 4,
   "id": "4f3921af",
   "metadata": {},
   "outputs": [
    {
     "name": "stdout",
     "output_type": "stream",
     "text": [
      "Enter x1:1\n",
      "Enter x2:1\n",
      "1    1 -> 0\n",
      "Enter x1:1\n",
      "Enter x2:0\n",
      "1    0 -> 1\n",
      "Enter x1:0\n",
      "Enter x2:1\n",
      "0    1 -> 1\n",
      "Enter x1:0\n",
      "Enter x2:0\n",
      "0    0 -> 1\n"
     ]
    }
   ],
   "source": [
    "for _ in range(4):\n",
    "    x1=int(input('Enter x1:'))\n",
    "    x2=int(input('Enter x2:'))\n",
    "    z=aggregation(x1,x2,w1,w2)\n",
    "    final=threshold(z,2)\n",
    "    print(x1,\"  \",x2,\"->\",final)"
   ]
  },
  {
   "cell_type": "code",
   "execution_count": null,
   "id": "daedadba",
   "metadata": {},
   "outputs": [],
   "source": []
  }
 ],
 "metadata": {
  "kernelspec": {
   "display_name": "Python 3 (ipykernel)",
   "language": "python",
   "name": "python3"
  },
  "language_info": {
   "codemirror_mode": {
    "name": "ipython",
    "version": 3
   },
   "file_extension": ".py",
   "mimetype": "text/x-python",
   "name": "python",
   "nbconvert_exporter": "python",
   "pygments_lexer": "ipython3",
   "version": "3.11.5"
  }
 },
 "nbformat": 4,
 "nbformat_minor": 5
}
