{
 "cells": [
  {
   "cell_type": "code",
   "execution_count": 112,
   "id": "64cdb0f3",
   "metadata": {},
   "outputs": [],
   "source": [
    "import numpy as np\n",
    "# Define the 4 vectors to be stored\n",
    "vectors = np.array([[1, 1, -1, -1],\n",
    "                [-1, -1, 1, 1],\n",
    "                [1, -1, 1, -1],\n",
    "                [-1, 1, -1, 1]])\n"
   ]
  },
  {
   "cell_type": "code",
   "execution_count": 113,
   "id": "b051ae51",
   "metadata": {},
   "outputs": [
    {
     "name": "stdout",
     "output_type": "stream",
     "text": [
      "Outer Product for Pattern: [ 1  1 -1 -1]\n",
      "[[ 1  1 -1 -1]\n",
      " [ 1  1 -1 -1]\n",
      " [-1 -1  1  1]\n",
      " [-1 -1  1  1]]\n",
      "Outer Product for Pattern: [-1 -1  1  1]\n",
      "[[ 1  1 -1 -1]\n",
      " [ 1  1 -1 -1]\n",
      " [-1 -1  1  1]\n",
      " [-1 -1  1  1]]\n",
      "Outer Product for Pattern: [ 1 -1  1 -1]\n",
      "[[ 1 -1  1 -1]\n",
      " [-1  1 -1  1]\n",
      " [ 1 -1  1 -1]\n",
      " [-1  1 -1  1]]\n",
      "Outer Product for Pattern: [-1  1 -1  1]\n",
      "[[ 1 -1  1 -1]\n",
      " [-1  1 -1  1]\n",
      " [ 1 -1  1 -1]\n",
      " [-1  1 -1  1]]\n"
     ]
    }
   ],
   "source": [
    "# Calculate the weight matrix\n",
    "# weights = np.zeros((4, 4))\n",
    "# for i in range(4):\n",
    "#     for j in range(4):\n",
    "#         if i == j:\n",
    "#             weights[i, j] = 0\n",
    "#         else:\n",
    "#             weights[i, j] = np.sum(vectors[i] * vectors[j])\n",
    "import numpy as np\n",
    "# Define the 4 vectors to be stored\n",
    "vectors = np.array([[1, 1, -1, -1],\n",
    "                [-1, -1, 1, 1],\n",
    "                [1, -1, 1, -1],\n",
    "                [-1, 1, -1, 1]])\n",
    "def train(patterns):\n",
    "    weights = np.zeros((4, 4))\n",
    "    for pattern in patterns:\n",
    "        pattern = np.array(pattern)\n",
    "        outer_product = np.outer(pattern, pattern)  # Compute outer product\n",
    "        print(\"Outer Product for Pattern:\", pattern)\n",
    "        print(outer_product)\n",
    "        weights += outer_product\n",
    "    np.fill_diagonal(weights, 0) \n",
    "    return weights\n",
    "weights=train(vectors)\n",
    "\n",
    "# Define the Hopfield network function\n",
    "def hopfield(input_vector, weights):\n",
    "#     output_vector = activation(np.dot(weights, input_vector))\n",
    "#     return output_vector\n",
    "\n",
    "    max_iterations=1\n",
    "    iteration=0\n",
    "    noisy_pattern = input_vector\n",
    "    while(iteration<max_iterations):\n",
    "        iteration+=1\n",
    "        prev_pattern = np.copy(noisy_pattern)\n",
    "        noisy_pattern = activation(np.dot(noisy_pattern, weights))\n",
    "        if np.array_equal(noisy_pattern, prev_pattern):\n",
    "            return noisy_pattern\n",
    "            break\n",
    "    return noisy_pattern\n",
    "\n",
    "# Test the Hopfield network with one of the stored vectors as input\n",
    "noisy_patterns = np.array([[1,-1, 1,-1]])\n",
    "input_vector = noisy_patterns\n",
    "output_vector = hopfield(input_vector, weights)\n",
    "print(\"Input vector:\")\n",
    "print(input_vector)\n",
    "print(\"Output vector:\")\n",
    "print(output_vector)"
   ]
  },
  {
   "cell_type": "code",
   "execution_count": 114,
   "id": "7c31caaf",
   "metadata": {},
   "outputs": [
    {
     "data": {
      "text/plain": [
       "array([[ 0.,  0.,  0., -4.],\n",
       "       [ 0.,  0., -4.,  0.],\n",
       "       [ 0., -4.,  0.,  0.],\n",
       "       [-4.,  0.,  0.,  0.]])"
      ]
     },
     "execution_count": 114,
     "metadata": {},
     "output_type": "execute_result"
    }
   ],
   "source": [
    "weights"
   ]
  },
  {
   "cell_type": "code",
   "execution_count": 115,
   "id": "e3f5c47a",
   "metadata": {},
   "outputs": [],
   "source": [
    "\n",
    "# Define the activation function (in this case, a sign function)\n",
    "def activation(x):\n",
    "    return np.where(x > 0, 1, -1)\n"
   ]
  },
  {
   "cell_type": "code",
   "execution_count": 116,
   "id": "6486d93c",
   "metadata": {},
   "outputs": [],
   "source": [
    "# Define the Hopfield network function\n",
    "def hopfield(input_vector, weights):\n",
    "#     output_vector = activation(np.dot(weights, input_vector))\n",
    "#     return output_vector\n",
    "\n",
    "    max_iterations=1\n",
    "    iteration=0\n",
    "    noisy_pattern = input_vector\n",
    "    while(iteration<max_iterations):\n",
    "        iteration+=1\n",
    "        prev_pattern = np.copy(noisy_pattern)\n",
    "        noisy_pattern = activation(np.dot(noisy_pattern, weights))\n",
    "        if np.array_equal(noisy_pattern, prev_pattern):\n",
    "            return noisy_pattern\n",
    "            break\n",
    "    return noisy_pattern\n",
    "\n"
   ]
  },
  {
   "cell_type": "code",
   "execution_count": 119,
   "id": "34ace00a",
   "metadata": {},
   "outputs": [
    {
     "name": "stdout",
     "output_type": "stream",
     "text": [
      "Input vector:\n",
      "[[ 1 -1  1 -1]]\n",
      "Output vector:\n",
      "[[ 1 -1  1 -1]]\n"
     ]
    }
   ],
   "source": [
    "# Test the Hopfield network with one of the stored vectors as input\n",
    "noisy_patterns = np.array([[1,-1, 1,-1]])\n",
    "input_vector = noisy_patterns\n",
    "output_vector = hopfield(input_vector, weights)\n",
    "print(\"Input vector:\")\n",
    "print(input_vector)\n",
    "print(\"Output vector:\")\n",
    "print(output_vector)"
   ]
  },
  {
   "cell_type": "code",
   "execution_count": 68,
   "id": "56eb5635",
   "metadata": {},
   "outputs": [
    {
     "name": "stdout",
     "output_type": "stream",
     "text": [
      "Original pattern     0          (1, 1, 1, -1)\n",
      "Noisy pattern        0          (1, -1, -1, -1)\n",
      "Recovered pattern    0          (1, -1, -1, -1)\n",
      "\n"
     ]
    }
   ],
   "source": [
    "max_iterations=10\n",
    "\n",
    "noisy_patterns = np.array([[1, -1,- 1, -1]])\n",
    "for i, noisy_pattern in enumerate(noisy_patterns):\n",
    "    iteration = 0\n",
    "    while iteration < max_iterations:\n",
    "        iteration += 1\n",
    "        prev_pattern = np.copy(noisy_pattern)\n",
    "        noisy_pattern = activation(np.dot(noisy_pattern, weights))\n",
    "        if np.array_equal(noisy_pattern, vectors):\n",
    "            break\n",
    "            \n",
    "#         distances = np.sum(np.abs(vectors - noisy_pattern), axis=1)\n",
    "#         closest_match_idx = np.argmin(distances)\n",
    "    \n",
    "    # print the original pattern, noisy pattern, and recovered pattern\n",
    "    print('{:<20} {:<10} {:<10}'.format(\"Original pattern\", i, str(tuple(vectors[i]))))\n",
    "    print('{:<20} {:<10} {:<10}'.format(\"Noisy pattern\", i, str(tuple(noisy_patterns[i]))))\n",
    "    print('{:<20} {:<10} {:<10}'.format(\"Recovered pattern\", i, str(tuple(noisy_pattern))))\n",
    "    \n",
    "    print(\"\")\n",
    "    "
   ]
  },
  {
   "cell_type": "code",
   "execution_count": 96,
   "id": "2f948906",
   "metadata": {},
   "outputs": [
    {
     "data": {
      "text/plain": [
       "[array([ 1,  1, -1, -1]),\n",
       " array([-1,  1,  1, -1]),\n",
       " array([-1, -1,  1,  1]),\n",
       " array([ 1, -1, -1,  1])]"
      ]
     },
     "execution_count": 96,
     "metadata": {},
     "output_type": "execute_result"
    }
   ],
   "source": [
    "vectors"
   ]
  },
  {
   "cell_type": "code",
   "execution_count": 3,
   "id": "37f8c59a",
   "metadata": {},
   "outputs": [
    {
     "name": "stdout",
     "output_type": "stream",
     "text": [
      "Initial State: [-1  1 -1  1]\n",
      "Final State: [-1 -1 -1  1]\n"
     ]
    }
   ],
   "source": [
    "import numpy as np\n",
    "\n",
    "def train_hopfield(patterns):\n",
    "    num_neurons = patterns.shape[1]\n",
    "    weights = np.zeros((num_neurons, num_neurons))\n",
    "    for pattern in patterns:\n",
    "        weights += np.outer(pattern, pattern)\n",
    "    np.fill_diagonal(weights, 0)\n",
    "    return weights\n",
    "\n",
    "def update_neuron(weights, neuron_idx, state):\n",
    "    activation = np.dot(weights[neuron_idx], state)\n",
    "    return np.sign(activation)\n",
    "\n",
    "def update_hopfield(weights, initial_state, max_iterations=100):\n",
    "    current_state = initial_state.copy()\n",
    "    for _ in range(max_iterations):\n",
    "        neuron_idx = np.random.randint(len(initial_state))\n",
    "        new_state = update_neuron(weights, neuron_idx, current_state)\n",
    "        if np.array_equal(new_state, current_state):\n",
    "            return new_state\n",
    "        current_state[neuron_idx] = new_state\n",
    "    return current_state\n",
    "\n",
    "patterns = np.array([[1, 1, 1, -1],\n",
    "                     [-1, 1, -1, 1],\n",
    "                     [-1, 1, 1, -1],\n",
    "                     [-1, -1, -1, 1]])\n",
    "\n",
    "initial_state = np.array([-1, 1,- 1, 1])\n",
    "\n",
    "weights = train_hopfield(patterns)\n",
    "final_state = update_hopfield(weights, initial_state)\n",
    "\n",
    "print(\"Initial State:\", initial_state)\n",
    "print(\"Final State:\", final_state)"
   ]
  },
  {
   "cell_type": "code",
   "execution_count": 1,
   "id": "99bc06c5",
   "metadata": {},
   "outputs": [
    {
     "name": "stdout",
     "output_type": "stream",
     "text": [
      "Input vector:\n",
      "[ 1  1 -1 -1]\n",
      "Output vector:\n",
      "[-1 -1  1  1]\n"
     ]
    }
   ],
   "source": [
    "import numpy as np\n",
    "# Define the 4 vectors to be stored\n",
    "vectors = np.array([[1, 1, -1, -1],\n",
    "                    [-1, -1, 1, 1],\n",
    "                    [1, -1, 1, -1],\n",
    "                    [-1, 1, -1, 1]])\n",
    "\n",
    "# Calculate the weight matrix\n",
    "weights = np.zeros((4, 4))\n",
    "for i in range(4):\n",
    "    for j in range(4):\n",
    "        if i == j:\n",
    "            weights[i, j] = 0\n",
    "        else:\n",
    "            weights[i, j] = np.sum(vectors[i] * vectors[j])\n",
    "            \n",
    "# Define the activation function (in this case, a sign function)\n",
    "def activation(x):\n",
    "    return np.where(x >= 0, 1, -1)\n",
    "\n",
    "# Define the Hopfield network function\n",
    "def hopfield(input_vector, weights):\n",
    "    output_vector = activation(np.dot(weights, input_vector))\n",
    "    return output_vector\n",
    "\n",
    "# Test the Hopfield network with one of the stored vectors as input\n",
    "input_vector = vectors[0]\n",
    "output_vector = hopfield(input_vector, weights)\n",
    "print(\"Input vector:\")\n",
    "print(input_vector)\n",
    "print(\"Output vector:\")\n",
    "print(output_vector)"
   ]
  },
  {
   "cell_type": "code",
   "execution_count": 74,
   "id": "b03754df",
   "metadata": {},
   "outputs": [
    {
     "name": "stdout",
     "output_type": "stream",
     "text": [
      "[[ 0.  0.  0. -4.]\n",
      " [ 0.  0. -4.  0.]\n",
      " [ 0. -4.  0.  0.]\n",
      " [-4.  0.  0.  0.]]\n",
      "Initial Pattern: [ 1  1 -1 -1]\n",
      "Recalled Pattern: [ 1.  1. -1. -1.]\n",
      "Energy: -8.0\n",
      "\n",
      "Initial Pattern: [-1 -1  1  1]\n",
      "Recalled Pattern: [-1. -1.  1.  1.]\n",
      "Energy: -8.0\n",
      "\n",
      "Initial Pattern: [ 1 -1  1 -1]\n",
      "Recalled Pattern: [ 1. -1.  1. -1.]\n",
      "Energy: -8.0\n",
      "\n",
      "Initial Pattern: [-1  1 -1  1]\n",
      "Recalled Pattern: [-1.  1. -1.  1.]\n",
      "Energy: -8.0\n",
      "\n",
      "[[ 0.  0.  0. -4.]\n",
      " [ 0.  0. -4.  0.]\n",
      " [ 0. -4.  0.  0.]\n",
      " [-4.  0.  0.  0.]]\n"
     ]
    }
   ],
   "source": [
    "import numpy as np\n",
    "\n",
    "class HopfieldNetwork:\n",
    "    def __init__(self, n):\n",
    "        self.n = n\n",
    "        self.weights = np.zeros((n, n))\n",
    "\n",
    "    def train(self, patterns):\n",
    "        for pattern in patterns:\n",
    "            pattern = np.array(pattern)\n",
    "            self.weights += np.outer(pattern, pattern)\n",
    "        np.fill_diagonal(self.weights, 0)\n",
    "        \n",
    "    def energy(self, state):\n",
    "        return -0.5 * np.dot(np.dot(state, self.weights), state)\n",
    "\n",
    "    def update(self, state, max_iter=100):\n",
    "        for _ in range(max_iter):\n",
    "            new_state = np.sign(np.dot(self.weights, state))\n",
    "            if np.array_equal(new_state, state):\n",
    "                return new_state\n",
    "            state = new_state\n",
    "        return state\n",
    "\n",
    "# Test the network\n",
    "if __name__ == \"__main__\":\n",
    "    patterns = [[1, 1, -1, -1],\n",
    "                [-1, -1, 1, 1],\n",
    "                [1, -1, 1, -1],\n",
    "                [-1, 1, -1, 1]]\n",
    "\n",
    "    hopfield_net = HopfieldNetwork(4)\n",
    "    hopfield_net.train(patterns)\n",
    "    print(hopfield_net.weights)\n",
    "    # Test recalling patterns\n",
    "    for pattern in patterns:\n",
    "        initial_state = np.array(pattern)\n",
    "        recalled_state = hopfield_net.update(initial_state)\n",
    "        print(\"Initial Pattern:\", initial_state)\n",
    "        print(\"Recalled Pattern:\", recalled_state)\n",
    "        print(\"Energy:\", hopfield_net.energy(recalled_state))\n",
    "        print()\n",
    "    print(hopfield_net.weights)"
   ]
  },
  {
   "cell_type": "code",
   "execution_count": 95,
   "id": "84566ea4",
   "metadata": {},
   "outputs": [
    {
     "name": "stdout",
     "output_type": "stream",
     "text": [
      "Noisy Pattern: [1, 1, 1, 1]\n",
      "Recalled Pattern: [1. 1. 1. 1.]\n",
      "Energy: 8.0\n"
     ]
    }
   ],
   "source": [
    "import numpy as np\n",
    "\n",
    "def train_hopfield_network(patterns):\n",
    "    n = len(patterns[0])\n",
    "    weights = np.zeros((n, n))\n",
    "\n",
    "    for pattern in patterns:\n",
    "        pattern = np.array(pattern)\n",
    "        outer_product = np.outer(pattern, pattern)\n",
    "        weights += outer_product\n",
    "\n",
    "    np.fill_diagonal(weights, 0)\n",
    "    return weights\n",
    "\n",
    "def energy(state, weights):\n",
    "    return -0.5 * np.dot(np.dot(state, weights), state)\n",
    "\n",
    "def update_hopfield_network(state, weights, max_iter=100):\n",
    "    for _ in range(max_iter):\n",
    "        new_state = np.sign(np.dot(weights, state))\n",
    "        if np.array_equal(new_state, state):\n",
    "            return new_state\n",
    "        state = new_state\n",
    "    return state\n",
    "\n",
    "# Test the network\n",
    "if __name__ == \"__main__\":\n",
    "    patterns = [[1, 1, -1, -1],\n",
    "                [-1, -1, 1, 1],\n",
    "                [1, -1, 1, -1],\n",
    "                [-1, 1, -1, 1]]\n",
    "\n",
    "    weights = train_hopfield_network(patterns)\n",
    "\n",
    "    # Add a noisy pattern\n",
    "    noisy_pattern = [1, 1, 1, 1]\n",
    "\n",
    "    print(\"Noisy Pattern:\", noisy_pattern)\n",
    "\n",
    "    recalled_state = update_hopfield_network(noisy_pattern, weights)\n",
    "    print(\"Recalled Pattern:\", recalled_state)\n",
    "    print(\"Energy:\", energy(recalled_state, weights))\n"
   ]
  },
  {
   "cell_type": "code",
   "execution_count": null,
   "id": "60897fe0",
   "metadata": {},
   "outputs": [],
   "source": []
  }
 ],
 "metadata": {
  "kernelspec": {
   "display_name": "Python 3 (ipykernel)",
   "language": "python",
   "name": "python3"
  },
  "language_info": {
   "codemirror_mode": {
    "name": "ipython",
    "version": 3
   },
   "file_extension": ".py",
   "mimetype": "text/x-python",
   "name": "python",
   "nbconvert_exporter": "python",
   "pygments_lexer": "ipython3",
   "version": "3.11.5"
  }
 },
 "nbformat": 4,
 "nbformat_minor": 5
}
