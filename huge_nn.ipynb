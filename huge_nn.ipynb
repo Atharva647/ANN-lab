{
 "cells": [
  {
   "cell_type": "code",
   "execution_count": 110,
   "id": "initial_id",
   "metadata": {
    "ExecuteTime": {
     "end_time": "2024-05-07T16:58:34.234534Z",
     "start_time": "2024-05-07T16:58:34.232187Z"
    },
    "collapsed": true
   },
   "outputs": [],
   "source": [
    "import numpy as np\n",
    "import pandas as pd\n",
    "import matplotlib.pyplot as plt\n",
    "import math\n",
    "from sklearn.preprocessing import StandardScaler, LabelEncoder\n",
    "\n",
    "e = math.e"
   ]
  },
  {
   "cell_type": "code",
   "execution_count": 111,
   "id": "2281623ed4d70ead",
   "metadata": {
    "ExecuteTime": {
     "end_time": "2024-05-07T16:58:35.753679Z",
     "start_time": "2024-05-07T16:58:35.113531Z"
    }
   },
   "outputs": [
    {
     "name": "stdout",
     "output_type": "stream",
     "text": [
      "<class 'pandas.core.frame.DataFrame'>\n",
      "RangeIndex: 123117 entries, 0 to 123116\n",
      "Data columns (total 85 columns):\n",
      " #   Column                    Non-Null Count   Dtype  \n",
      "---  ------                    --------------   -----  \n",
      " 0   Unnamed: 0                123117 non-null  int64  \n",
      " 1   id.orig_p                 123117 non-null  int64  \n",
      " 2   id.resp_p                 123117 non-null  int64  \n",
      " 3   proto                     123117 non-null  object \n",
      " 4   service                   123117 non-null  object \n",
      " 5   flow_duration             123117 non-null  float64\n",
      " 6   fwd_pkts_tot              123117 non-null  int64  \n",
      " 7   bwd_pkts_tot              123117 non-null  int64  \n",
      " 8   fwd_data_pkts_tot         123117 non-null  int64  \n",
      " 9   bwd_data_pkts_tot         123117 non-null  int64  \n",
      " 10  fwd_pkts_per_sec          123117 non-null  float64\n",
      " 11  bwd_pkts_per_sec          123117 non-null  float64\n",
      " 12  flow_pkts_per_sec         123117 non-null  float64\n",
      " 13  down_up_ratio             123117 non-null  float64\n",
      " 14  fwd_header_size_tot       123117 non-null  int64  \n",
      " 15  fwd_header_size_min       123117 non-null  int64  \n",
      " 16  fwd_header_size_max       123117 non-null  int64  \n",
      " 17  bwd_header_size_tot       123117 non-null  int64  \n",
      " 18  bwd_header_size_min       123117 non-null  int64  \n",
      " 19  bwd_header_size_max       123117 non-null  int64  \n",
      " 20  flow_FIN_flag_count       123117 non-null  int64  \n",
      " 21  flow_SYN_flag_count       123117 non-null  int64  \n",
      " 22  flow_RST_flag_count       123117 non-null  int64  \n",
      " 23  fwd_PSH_flag_count        123117 non-null  int64  \n",
      " 24  bwd_PSH_flag_count        123117 non-null  int64  \n",
      " 25  flow_ACK_flag_count       123117 non-null  int64  \n",
      " 26  fwd_URG_flag_count        123117 non-null  int64  \n",
      " 27  bwd_URG_flag_count        123117 non-null  int64  \n",
      " 28  flow_CWR_flag_count       123117 non-null  int64  \n",
      " 29  flow_ECE_flag_count       123117 non-null  int64  \n",
      " 30  fwd_pkts_payload.min      123117 non-null  float64\n",
      " 31  fwd_pkts_payload.max      123117 non-null  float64\n",
      " 32  fwd_pkts_payload.tot      123117 non-null  float64\n",
      " 33  fwd_pkts_payload.avg      123117 non-null  float64\n",
      " 34  fwd_pkts_payload.std      123117 non-null  float64\n",
      " 35  bwd_pkts_payload.min      123117 non-null  float64\n",
      " 36  bwd_pkts_payload.max      123117 non-null  float64\n",
      " 37  bwd_pkts_payload.tot      123117 non-null  float64\n",
      " 38  bwd_pkts_payload.avg      123117 non-null  float64\n",
      " 39  bwd_pkts_payload.std      123117 non-null  float64\n",
      " 40  flow_pkts_payload.min     123117 non-null  float64\n",
      " 41  flow_pkts_payload.max     123117 non-null  float64\n",
      " 42  flow_pkts_payload.tot     123117 non-null  float64\n",
      " 43  flow_pkts_payload.avg     123117 non-null  float64\n",
      " 44  flow_pkts_payload.std     123117 non-null  float64\n",
      " 45  fwd_iat.min               123117 non-null  float64\n",
      " 46  fwd_iat.max               123117 non-null  float64\n",
      " 47  fwd_iat.tot               123117 non-null  float64\n",
      " 48  fwd_iat.avg               123117 non-null  float64\n",
      " 49  fwd_iat.std               123117 non-null  float64\n",
      " 50  bwd_iat.min               123117 non-null  float64\n",
      " 51  bwd_iat.max               123117 non-null  float64\n",
      " 52  bwd_iat.tot               123117 non-null  float64\n",
      " 53  bwd_iat.avg               123117 non-null  float64\n",
      " 54  bwd_iat.std               123117 non-null  float64\n",
      " 55  flow_iat.min              123117 non-null  float64\n",
      " 56  flow_iat.max              123117 non-null  float64\n",
      " 57  flow_iat.tot              123117 non-null  float64\n",
      " 58  flow_iat.avg              123117 non-null  float64\n",
      " 59  flow_iat.std              123117 non-null  float64\n",
      " 60  payload_bytes_per_second  123117 non-null  float64\n",
      " 61  fwd_subflow_pkts          123117 non-null  float64\n",
      " 62  bwd_subflow_pkts          123117 non-null  float64\n",
      " 63  fwd_subflow_bytes         123117 non-null  float64\n",
      " 64  bwd_subflow_bytes         123117 non-null  float64\n",
      " 65  fwd_bulk_bytes            123117 non-null  float64\n",
      " 66  bwd_bulk_bytes            123117 non-null  float64\n",
      " 67  fwd_bulk_packets          123117 non-null  float64\n",
      " 68  bwd_bulk_packets          123117 non-null  float64\n",
      " 69  fwd_bulk_rate             123117 non-null  float64\n",
      " 70  bwd_bulk_rate             123117 non-null  float64\n",
      " 71  active.min                123117 non-null  float64\n",
      " 72  active.max                123117 non-null  float64\n",
      " 73  active.tot                123117 non-null  float64\n",
      " 74  active.avg                123117 non-null  float64\n",
      " 75  active.std                123117 non-null  float64\n",
      " 76  idle.min                  123117 non-null  float64\n",
      " 77  idle.max                  123117 non-null  float64\n",
      " 78  idle.tot                  123117 non-null  float64\n",
      " 79  idle.avg                  123117 non-null  float64\n",
      " 80  idle.std                  123117 non-null  float64\n",
      " 81  fwd_init_window_size      123117 non-null  int64  \n",
      " 82  bwd_init_window_size      123117 non-null  int64  \n",
      " 83  fwd_last_window_size      123117 non-null  int64  \n",
      " 84  Attack_type               123117 non-null  object \n",
      "dtypes: float64(56), int64(26), object(3)\n",
      "memory usage: 79.8+ MB\n"
     ]
    }
   ],
   "source": [
    "data = pd.read_csv('RT_IOT2022')\n",
    "data.info()"
   ]
  },
  {
   "cell_type": "code",
   "execution_count": 112,
   "id": "57fe4d623c5fa68d",
   "metadata": {
    "ExecuteTime": {
     "end_time": "2024-05-07T16:58:36.375081Z",
     "start_time": "2024-05-07T16:58:36.372659Z"
    }
   },
   "outputs": [],
   "source": [
    "scaler = StandardScaler()\n",
    "enc = LabelEncoder()"
   ]
  },
  {
   "cell_type": "code",
   "execution_count": 113,
   "id": "9d74519203419838",
   "metadata": {
    "ExecuteTime": {
     "end_time": "2024-05-07T16:58:36.895998Z",
     "start_time": "2024-05-07T16:58:36.883344Z"
    }
   },
   "outputs": [],
   "source": [
    "X, y = data.drop(columns=['Unnamed: 0', 'Attack_type'], axis=1), data['Attack_type']"
   ]
  },
  {
   "cell_type": "code",
   "execution_count": 114,
   "id": "a04db251148176cf",
   "metadata": {
    "ExecuteTime": {
     "end_time": "2024-05-07T16:58:37.246352Z",
     "start_time": "2024-05-07T16:58:37.234987Z"
    }
   },
   "outputs": [],
   "source": [
    "label_counts = y.value_counts()\n",
    "label_rank = {label: rank for rank, label in enumerate(label_counts.index)}\n",
    "y_encoded = y.map(label_rank)"
   ]
  },
  {
   "cell_type": "code",
   "execution_count": 115,
   "id": "ad0635f09790931c",
   "metadata": {
    "ExecuteTime": {
     "end_time": "2024-05-07T16:58:37.620788Z",
     "start_time": "2024-05-07T16:58:37.595210Z"
    }
   },
   "outputs": [],
   "source": [
    "for col in X.select_dtypes(include=['object']):\n",
    "    X[col] = enc.fit_transform(X[col])"
   ]
  },
  {
   "cell_type": "code",
   "execution_count": 116,
   "id": "116d76276ad92daf",
   "metadata": {
    "ExecuteTime": {
     "end_time": "2024-05-07T16:58:37.924518Z",
     "start_time": "2024-05-07T16:58:37.921347Z"
    }
   },
   "outputs": [
    {
     "data": {
      "text/plain": [
       "(123117, 83)"
      ]
     },
     "execution_count": 116,
     "metadata": {},
     "output_type": "execute_result"
    }
   ],
   "source": [
    "X.shape"
   ]
  },
  {
   "cell_type": "code",
   "execution_count": 1,
   "id": "25c13b53b51e7948",
   "metadata": {
    "ExecuteTime": {
     "end_time": "2024-05-07T16:58:38.228927Z",
     "start_time": "2024-05-07T16:58:38.221109Z"
    }
   },
   "outputs": [],
   "source": [
    "class classification_is_the_tip_of_iceberg:\n",
    "    def __init__(self, input_layer: int, hidden_layer: int, output_layer: int):\n",
    "        self.weights_1 = np.random.uniform(-0.5, 0.5, size=(input_layer, hidden_layer))\n",
    "        self.biases_1 = np.random.uniform(-0.5, 0.5, size=(1, hidden_layer))\n",
    "        self.weights_2 = np.random.uniform(-0.5, 0.5, size=(hidden_layer, output_layer))\n",
    "        self.biases_2 = np.random.uniform(-0.5, 0.5, size=(1, output_layer))\n",
    "    \n",
    "    def softmax(self, array):\n",
    "        return np.exp(array) / np.sum(np.exp(array))\n",
    "            \n",
    "    def relu(self, x):\n",
    "        return np.maximum(0, x)\n",
    "    \n",
    "    def relu_derivative(self, x):\n",
    "        return np.where(x > 0, x, 0)\n",
    "    \n",
    "    def train(self, X, y, learning_rate, epochs, verbose:bool=False):\n",
    "        for epoch in range(epochs):\n",
    "            for idx, row in X.iterrows():\n",
    "            # Forward pass\n",
    "                forward_1 = row.values @ self.weights_1 + self.biases_1\n",
    "                activated_1 = self.relu(forward_1)\n",
    "                forward_2 = activated_1 @ self.weights_2 + self.biases_2\n",
    "                output = self.softmax(forward_2)\n",
    "                print(output)\n",
    "                break\n",
    "            break\n",
    "        \n",
    "                \n",
    "            "
   ]
  },
  {
   "cell_type": "code",
   "execution_count": 118,
   "id": "9f70df78aae8178c",
   "metadata": {
    "ExecuteTime": {
     "end_time": "2024-05-07T16:58:38.799122Z",
     "start_time": "2024-05-07T16:58:38.764587Z"
    }
   },
   "outputs": [
    {
     "name": "stdout",
     "output_type": "stream",
     "text": [
      "[[nan  0. nan  0. nan  0.  0.  0.  0. nan  0.  0.]]\n"
     ]
    },
    {
     "name": "stderr",
     "output_type": "stream",
     "text": [
      "/tmp/ipykernel_21348/2457030739.py:9: RuntimeWarning: overflow encountered in exp\n",
      "  return np.exp(array) / np.sum(np.exp(array))\n",
      "/tmp/ipykernel_21348/2457030739.py:9: RuntimeWarning: invalid value encountered in divide\n",
      "  return np.exp(array) / np.sum(np.exp(array))\n"
     ]
    }
   ],
   "source": [
    "x = classification_is_the_tip_of_iceberg(83, 100, 12)\n",
    "x.train(X, y, learning_rate=0.1, epochs=5000, verbose=True)"
   ]
  },
  {
   "cell_type": "code",
   "execution_count": 119,
   "id": "8794c41bc177dd9",
   "metadata": {
    "ExecuteTime": {
     "end_time": "2024-05-07T16:58:39.520842Z",
     "start_time": "2024-05-07T16:58:39.517932Z"
    }
   },
   "outputs": [],
   "source": [
    "weights_1 = np.random.uniform(-0.1, 0.1, size=(4, 100))\n",
    "biases_1 = np.random.uniform(-0.1, 0.1, size=(1, 100))\n",
    "weights_2 = np.random.uniform(-0.1, 0.1, size=(100, 3))\n",
    "biases_2 = np.random.uniform(-0.1, 0.1, size=(1, 3))"
   ]
  },
  {
   "cell_type": "code",
   "execution_count": 120,
   "id": "b5c130aecca6285c",
   "metadata": {
    "ExecuteTime": {
     "end_time": "2024-05-07T16:58:40.986189Z",
     "start_time": "2024-05-07T16:58:40.983293Z"
    }
   },
   "outputs": [],
   "source": [
    "def relu(x):\n",
    "        return np.maximum(0, x)\n",
    "\n",
    "def sigmoid(x):\n",
    "    return 1 / (1 + np.exp(-x))\n",
    "    \n",
    "def softmax(A):\n",
    "    expA = np.exp(A)\n",
    "    return expA / expA.sum()    "
   ]
  },
  {
   "cell_type": "code",
   "execution_count": null,
   "id": "a88dec49ce0f1b48",
   "metadata": {},
   "outputs": [],
   "source": []
  }
 ],
 "metadata": {
  "kernelspec": {
   "display_name": "Python 3 (ipykernel)",
   "language": "python",
   "name": "python3"
  },
  "language_info": {
   "codemirror_mode": {
    "name": "ipython",
    "version": 3
   },
   "file_extension": ".py",
   "mimetype": "text/x-python",
   "name": "python",
   "nbconvert_exporter": "python",
   "pygments_lexer": "ipython3",
   "version": "3.11.5"
  }
 },
 "nbformat": 4,
 "nbformat_minor": 5
}
