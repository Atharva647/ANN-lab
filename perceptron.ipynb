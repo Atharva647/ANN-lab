{
 "cells": [
  {
   "cell_type": "markdown",
   "id": "8fc6e442",
   "metadata": {},
   "source": [
    "import numpy as np\n",
    "\n",
    "# Define the training data\n",
    "# Each row corresponds to the ASCII representation of a digit (0 to 9)\n",
    "# Columns represent individual bits in the ASCII representation\n",
    "# 1: bit is present, 0: bit is not present\n",
    "training_data = np.array([\n",
    "    [0, 0, 1, 1, 1, 1, 1, 1, 1, 1],  # ASCII for '0'\n",
    "    [0, 0, 0, 0, 1, 1, 0, 1, 1, 1],  # ASCII for '1'\n",
    "    [0, 0, 1, 0, 1, 1, 1, 0, 1, 1],  # ASCII for '2'\n",
    "    [0, 0, 1, 1, 1, 1, 0, 0, 1, 1],  # ASCII for '3'\n",
    "    [0, 0, 0, 0, 1, 1, 1, 1, 1, 1],  # ASCII for '4'\n",
    "    [0, 0, 1, 1, 0, 1, 1, 1, 1, 1],  # ASCII for '5'\n",
    "    [0, 0, 1, 1, 1, 0, 1, 1, 1, 1],  # ASCII for '6'\n",
    "    [0, 0, 1, 0, 1, 1, 1, 0, 0, 1],  # ASCII for '7'\n",
    "    [0, 0, 1, 1, 1, 1, 1, 1, 1, 1],  # ASCII for '8'\n",
    "    [0, 0, 1, 1, 1, 1, 0, 1, 1, 1]   # ASCII for '9'\n",
    "])\n",
    "\n",
    "# Corresponding labels: 0 for even, 1 for odd\n",
    "labels = np.array([0, 1, 0, 1, 0, 1, 0, 1, 0, 1])\n",
    "\n",
    "# Perceptron parameters\n",
    "input_size = 10\n",
    "learning_rate = 0.1\n",
    "epochs = 100\n",
    "\n",
    "# Initialize weights and bias\n",
    "weights = np.zeros(input_size)\n",
    "bias = 0\n",
    "\n",
    "# Perceptron training\n",
    "for epoch in range(epochs):\n",
    "    for x, y in zip(training_data, labels):\n",
    "        # Calculate the predicted label\n",
    "        prediction = np.dot(weights, x) + bias\n",
    "        # Update weights and bias\n",
    "        weights += learning_rate * (y - prediction) * x\n",
    "        bias += learning_rate * (y - prediction)\n",
    "\n",
    "# Function to predict if a number is even or odd\n",
    "def predict_number(input_data):\n",
    "    prediction = np.dot(weights, input_data) + bias\n",
    "    return 0 if prediction < 0 else 1\n",
    "\n",
    "# Test the perceptron\n",
    "test_data = np.array([\n",
    "    [0, 0, 1, 0, 0, 0, 0, 0, 1, 1],  # ASCII for '2' (even)\n",
    "    [0, 0, 0, 1, 1, 1, 1, 0, 1, 1]   # ASCII for '7' (odd)\n",
    "])\n",
    "\n",
    "for test_input in test_data:\n",
    "    result = predict_number(test_input)\n",
    "    print(f\"Prediction: {'Odd' if result == 1 else 'Even'}\")"
   ]
  },
  {
   "cell_type": "code",
   "execution_count": 165,
   "id": "0605f322",
   "metadata": {},
   "outputs": [],
   "source": [
    "import numpy as np"
   ]
  },
  {
   "cell_type": "code",
   "execution_count": 166,
   "id": "c1bc40c9",
   "metadata": {},
   "outputs": [],
   "source": [
    "import numpy as np\n",
    "np.random.seed(2)\n",
    "inputs=np.array([[0,0,1,1,0,0,0,0],\n",
    "               [0,0,1,1,0,0,0,1],\n",
    "               [0,0,1,1,0,0,1,0],\n",
    "               [0,0,1,1,0,0,1,1],\n",
    "               [0,0,1,1,0,1,0,0],\n",
    "               [0,0,1,1,0,1,0,1],\n",
    "               [0,0,1,1,0,1,1,0],\n",
    "               [0,0,1,1,0,1,1,1],\n",
    "               [0,0,1,1,1,0,0,0],\n",
    "               [0,0,1,1,1,0,0,1]])\n",
    "\n",
    "labels=np.array([0,1,0,1,0,1,0,1,0,1])\n",
    "\n",
    "inp_size=inputs.shape[1]\n",
    "weights=np.full(inp_size,0.5)\n",
    "bias=0\n",
    "lr=0.1\n",
    "epochs=100\n"
   ]
  },
  {
   "cell_type": "code",
   "execution_count": 167,
   "id": "6052b5f6",
   "metadata": {},
   "outputs": [
    {
     "data": {
      "text/plain": [
       "8"
      ]
     },
     "execution_count": 167,
     "metadata": {},
     "output_type": "execute_result"
    }
   ],
   "source": [
    "inputs.shape[1]"
   ]
  },
  {
   "cell_type": "code",
   "execution_count": 168,
   "id": "f1894948",
   "metadata": {},
   "outputs": [
    {
     "data": {
      "text/plain": [
       "array([0.5, 0.5, 0.5, 0.5, 0.5, 0.5, 0.5, 0.5])"
      ]
     },
     "execution_count": 168,
     "metadata": {},
     "output_type": "execute_result"
    }
   ],
   "source": [
    "weights"
   ]
  },
  {
   "cell_type": "code",
   "execution_count": 171,
   "id": "47b27099",
   "metadata": {},
   "outputs": [],
   "source": [
    "def step_function(x):\n",
    "    return np.where(x>1,1,0)\n",
    "\n",
    "def train(inputs,labels,weights,lr,epochs,bias):\n",
    "    for _ in range(epochs):\n",
    "        for x,y in zip(inputs,labels):\n",
    "#             print(x,y)\n",
    "            summation=np.dot(x,weights)+bias\n",
    "#             print(summation)\n",
    "            prediction=step_function(summation)\n",
    "#             print(prediction)\n",
    "            weights+=lr*(y-prediction)*x\n",
    "            bias+=lr*(y-prediction)\n",
    "        \n",
    "def predict(inp):\n",
    "    summation=np.dot(inp,weights)+bias\n",
    "    return np.where(summation>1,1,0)"
   ]
  },
  {
   "cell_type": "code",
   "execution_count": 172,
   "id": "2373cdf8",
   "metadata": {},
   "outputs": [],
   "source": [
    "train(inputs,labels,weights,lr,10000,bias)"
   ]
  },
  {
   "cell_type": "code",
   "execution_count": 173,
   "id": "10d7fd79",
   "metadata": {},
   "outputs": [
    {
     "name": "stdout",
     "output_type": "stream",
     "text": [
      "0\n",
      "1\n",
      "0\n",
      "1\n",
      "0\n",
      "1\n",
      "0\n",
      "1\n",
      "0\n",
      "1\n"
     ]
    }
   ],
   "source": [
    "train(inputs,labels,weights,lr,10000,bias)\n",
    "\n",
    "for i in inputs:\n",
    "    print(predict(i))"
   ]
  },
  {
   "cell_type": "code",
   "execution_count": 174,
   "id": "d5fb677f",
   "metadata": {},
   "outputs": [
    {
     "data": {
      "text/plain": [
       "array(0)"
      ]
     },
     "execution_count": 174,
     "metadata": {},
     "output_type": "execute_result"
    }
   ],
   "source": [
    "predict([0,0,1,1,0,0,1,0])"
   ]
  },
  {
   "cell_type": "code",
   "execution_count": 175,
   "id": "c94f1209",
   "metadata": {},
   "outputs": [],
   "source": [
    "ascci={48:[0,0,1,1,0,0,0,0],\n",
    "               49:[0,0,1,1,0,0,0,1],\n",
    "               50:[0,0,1,1,0,0,1,0],\n",
    "               51:[0,0,1,1,0,0,1,1],\n",
    "               52:[0,0,1,1,0,1,0,0],\n",
    "               53:[0,0,1,1,0,1,0,1],\n",
    "               54:[0,0,1,1,0,1,1,0],\n",
    "               55:[0,0,1,1,0,1,1,1],\n",
    "               56:[0,0,1,1,1,0,0,0],\n",
    "               57:[0,0,1,1,1,0,0,1]}"
   ]
  },
  {
   "cell_type": "code",
   "execution_count": 176,
   "id": "0ed52c3c",
   "metadata": {},
   "outputs": [
    {
     "data": {
      "text/plain": [
       "[0, 0, 1, 1, 0, 0, 0, 0]"
      ]
     },
     "execution_count": 176,
     "metadata": {},
     "output_type": "execute_result"
    }
   ],
   "source": [
    "ascci[48]"
   ]
  },
  {
   "cell_type": "code",
   "execution_count": 177,
   "id": "e9fedc6a",
   "metadata": {},
   "outputs": [
    {
     "data": {
      "text/plain": [
       "array(0)"
      ]
     },
     "execution_count": 177,
     "metadata": {},
     "output_type": "execute_result"
    }
   ],
   "source": [
    "predict(ascci[48])"
   ]
  },
  {
   "cell_type": "code",
   "execution_count": 178,
   "id": "9ea4a422",
   "metadata": {},
   "outputs": [
    {
     "data": {
      "text/plain": [
       "array(1)"
      ]
     },
     "execution_count": 178,
     "metadata": {},
     "output_type": "execute_result"
    }
   ],
   "source": [
    "predict(ascci[49])"
   ]
  },
  {
   "cell_type": "code",
   "execution_count": 179,
   "id": "06eb617a",
   "metadata": {},
   "outputs": [
    {
     "data": {
      "text/plain": [
       "array([0.5, 0.5, 0.2, 0.2, 0.4, 0.1, 0.1, 0.8])"
      ]
     },
     "execution_count": 179,
     "metadata": {},
     "output_type": "execute_result"
    }
   ],
   "source": [
    "weights"
   ]
  },
  {
   "cell_type": "code",
   "execution_count": 123,
   "id": "8958909d",
   "metadata": {},
   "outputs": [],
   "source": [
    "import matplotlib.pyplot as plt"
   ]
  },
  {
   "cell_type": "code",
   "execution_count": 180,
   "id": "09178860",
   "metadata": {},
   "outputs": [],
   "source": [
    "x = np.array([[0, 0], [1, 0], [0, 1], [1, 1]])\n",
    "y = np.array([0, 0, 0, 1])"
   ]
  },
  {
   "cell_type": "code",
   "execution_count": 181,
   "id": "64f69413",
   "metadata": {},
   "outputs": [
    {
     "data": {
      "text/plain": [
       "array([0.5, 0.5])"
      ]
     },
     "execution_count": 181,
     "metadata": {},
     "output_type": "execute_result"
    }
   ],
   "source": [
    "inp_size=x.shape[1]\n",
    "weights=np.full(inp_size,0.5)\n",
    "bias=0\n",
    "lr=0.2\n",
    "epochs=10000\n",
    "weights\n",
    "# np.random.seed(2)"
   ]
  },
  {
   "cell_type": "code",
   "execution_count": 188,
   "id": "76b37d99",
   "metadata": {},
   "outputs": [],
   "source": [
    "train(x,y,weights,lr,10000,bias)"
   ]
  },
  {
   "cell_type": "code",
   "execution_count": 189,
   "id": "ab83dfc6",
   "metadata": {},
   "outputs": [
    {
     "name": "stdout",
     "output_type": "stream",
     "text": [
      "0\n",
      "0\n",
      "0\n",
      "1\n"
     ]
    }
   ],
   "source": [
    "for i in x:\n",
    "    print(predict(i))"
   ]
  },
  {
   "cell_type": "code",
   "execution_count": 194,
   "id": "5b30ecec",
   "metadata": {},
   "outputs": [],
   "source": [
    "# x_min, x_max = min(X_train, key=lambda x: x[0])[0] - 1, max(X_train, key=lambda x: x[0])[0] + 1\n",
    "# y_min, y_max = min(X_train, key=lambda x: x[1])[1] - 1, max(X_train, key=lambda x: x[1])[1] + 1\n",
    "\n",
    "# xx, yy = np.meshgrid(np.arange(x_min, x_max, 0.1), np.arange(y_min, y_max, 0.1))\n",
    "# Z = model.predict(np.c_[xx.ravel(), yy.ravel()])\n",
    "# Z = Z.reshape(xx.shape)\n",
    "\n",
    "\n",
    "x_points=[x[0] for x in inputs]\n",
    "y_points=[x[1] for x in inputs]\n",
    "\n",
    "\n",
    "x_min, x_max = x[:, 0].min() - 0.5, x[:, 0].max() + 0.5\n",
    "y_min, y_max = x[:, 1].min() - 0.5, x[:, 1].max() + 0.5"
   ]
  },
  {
   "cell_type": "code",
   "execution_count": 195,
   "id": "1186d636",
   "metadata": {},
   "outputs": [],
   "source": [
    "xx,yy=np.meshgrid(np.arange(x_min,x_max,0.01),np.arange(y_min,y_max,0.01))"
   ]
  },
  {
   "cell_type": "code",
   "execution_count": 196,
   "id": "6c19e560",
   "metadata": {},
   "outputs": [],
   "source": [
    "# Z = np.dot(np.c_[xx.ravel(), yy.ravel()], weights) + bias\n",
    "Z=predict(np.c_[xx.ravel(),yy.ravel()])\n",
    "Z = Z.reshape(xx.shape)"
   ]
  },
  {
   "cell_type": "code",
   "execution_count": 203,
   "id": "623ad31a",
   "metadata": {},
   "outputs": [
    {
     "name": "stderr",
     "output_type": "stream",
     "text": [
      "No artists with labels found to put in legend.  Note that artists whose label start with an underscore are ignored when legend() is called with no argument.\n"
     ]
    },
    {
     "data": {
      "image/png": "[encoded data removed]",
      "text/plain": [
       "<Figure size 640x480 with 1 Axes>"
      ]
     },
     "metadata": {},
     "output_type": "display_data"
    }
   ],
   "source": [
    "# plot the decision boundary\n",
    "plt.contourf(xx, yy, Z, alpha=0.3)\n",
    "\n",
    "# plot the data points\n",
    "plt.scatter(x[y==0,0],x[y==0,1],color='red',label='class 0')\n",
    "plt.scatter(x[y==1,0],x[y==1,1],color='blue',label='class 1')\n",
    "# plt.scatter(x[:, 0], x[:, 1], c=y, edgecolors='k')\n",
    "\n",
    "# add labels and title\n",
    "plt.xlabel('Input 1 (x1)')\n",
    "plt.ylabel('Input 2 (x2)')\n",
    "plt.title('Perceptron Decision Boundary')\n",
    "plt.legend()\n",
    "plt.show()"
   ]
  },
  {
   "cell_type": "code",
   "execution_count": null,
   "id": "a284d7ab",
   "metadata": {},
   "outputs": [],
   "source": []
  },
  {
   "cell_type": "code",
   "execution_count": 43,
   "id": "f37a2b95",
   "metadata": {},
   "outputs": [
    {
     "data": {
      "image/png": "[encoded data removed]",
      "text/plain": [
       "<Figure size 640x480 with 1 Axes>"
      ]
     },
     "metadata": {},
     "output_type": "display_data"
    }
   ],
   "source": [
    "import numpy as np\n",
    "import matplotlib.pyplot as plt\n",
    "from sklearn.datasets import make_classification\n",
    "from sklearn.linear_model import Perceptron\n",
    "\n",
    "# Generate synthetic data with two features and two classes\n",
    "X, y = make_classification(n_samples=100, n_features=2, n_informative=2, n_redundant=0, \n",
    "                           n_repeated=0, n_classes=2, n_clusters_per_class=1, \n",
    "                           class_sep=0.8, random_state=42)\n",
    "\n",
    "\n",
    "# Train a perceptron classifier\n",
    "perceptron = Perceptron()\n",
    "perceptron.fit(X, y)\n",
    "\n",
    "# Plot the decision boundary\n",
    "x1_min, x1_max = X[:, 0].min() - 1, X[:, 0].max() + 1\n",
    "x2_min, x2_max = X[:, 1].min() - 1, X[:, 1].max() + 1\n",
    "xx1, xx2 = np.meshgrid(np.arange(x1_min, x1_max, 0.02),\n",
    "                       np.arange(x2_min, x2_max, 0.02))\n",
    "Z = perceptron.predict(np.c_[xx1.ravel(), xx2.ravel()])\n",
    "Z = Z.reshape(xx1.shape)\n",
    "plt.contourf(xx1, xx2, Z, alpha=0.3)\n",
    "\n",
    "# Plot the data points\n",
    "plt.scatter(X[:, 0], X[:, 1], c=y, edgecolors='k')\n",
    "plt.xlabel('Feature 1')\n",
    "plt.ylabel('Feature 2')\n",
    "plt.title('Perceptron Decision Boundary')\n",
    "plt.show()\n"
   ]
  },
  {
   "cell_type": "code",
   "execution_count": 44,
   "id": "9b4c3df3",
   "metadata": {},
   "outputs": [
    {
     "data": {
      "image/png": "[encoded data removed]",
      "text/plain": [
       "<Figure size 1200x500 with 2 Axes>"
      ]
     },
     "metadata": {},
     "output_type": "display_data"
    }
   ],
   "source": [
    "import numpy as np\n",
    "import matplotlib.pyplot as plt\n",
    "from sklearn.linear_model import Perceptron\n",
    "\n",
    "# Logical AND gate data\n",
    "X_and = np.array([[0, 0], [0, 1], [1, 0], [1, 1]])\n",
    "y_and = np.array([0, 0, 0, 1])\n",
    "\n",
    "# Logical OR gate data\n",
    "X_or = np.array([[0, 0], [0, 1], [1, 0], [1, 1]])\n",
    "y_or = np.array([0, 1, 1, 1])\n",
    "\n",
    "# Plotting AND gate data\n",
    "plt.figure(figsize=(12, 5))\n",
    "\n",
    "plt.subplot(1, 2, 1)\n",
    "plt.scatter(X_and[:, 0], X_and[:, 1], c=y_and, cmap='bwr', edgecolors='k', s=100)\n",
    "plt.title('Logical AND Gate')\n",
    "plt.xlabel('Input 1')\n",
    "plt.ylabel('Input 2')\n",
    "plt.xticks([0, 1])\n",
    "plt.yticks([0, 1])\n",
    "plt.grid(True)\n",
    "\n",
    "# Train a perceptron classifier for AND gate\n",
    "perceptron_and = Perceptron()\n",
    "perceptron_and.fit(X_and, y_and)\n",
    "\n",
    "# Plotting decision boundary for AND gate\n",
    "x1_min, x1_max = X_and[:, 0].min() - 1, X_and[:, 0].max() + 1\n",
    "x2_min, x2_max = X_and[:, 1].min() - 1, X_and[:, 1].max() + 1\n",
    "xx1, xx2 = np.meshgrid(np.arange(x1_min, x1_max, 0.02), np.arange(x2_min, x2_max, 0.02))\n",
    "Z = perceptron_and.predict(np.c_[xx1.ravel(), xx2.ravel()])\n",
    "Z = Z.reshape(xx1.shape)\n",
    "plt.contourf(xx1, xx2, Z, alpha=0.3, cmap='bwr')\n",
    "\n",
    "# Plotting OR gate data\n",
    "plt.subplot(1, 2, 2)\n",
    "plt.scatter(X_or[:, 0], X_or[:, 1], c=y_or, cmap='bwr', edgecolors='k', s=100)\n",
    "plt.title('Logical OR Gate')\n",
    "plt.xlabel('Input 1')\n",
    "plt.ylabel('Input 2')\n",
    "plt.xticks([0, 1])\n",
    "plt.yticks([0, 1])\n",
    "plt.grid(True)\n",
    "\n",
    "# Train a perceptron classifier for OR gate\n",
    "perceptron_or = Perceptron()\n",
    "perceptron_or.fit(X_or, y_or)\n",
    "\n",
    "# Plotting decision boundary for OR gate\n",
    "x1_min, x1_max = X_or[:, 0].min() - 1, X_or[:, 0].max() + 1\n",
    "x2_min, x2_max = X_or[:, 1].min() - 1, X_or[:, 1].max() + 1\n",
    "xx1, xx2 = np.meshgrid(np.arange(x1_min, x1_max, 0.02), np.arange(x2_min, x2_max, 0.02))\n",
    "Z = perceptron_or.predict(np.c_[xx1.ravel(), xx2.ravel()])\n",
    "Z = Z.reshape(xx1.shape)\n",
    "plt.contourf(xx1, xx2, Z, alpha=0.3, cmap='bwr')\n",
    "\n",
    "plt.tight_layout()\n",
    "plt.show()\n"
   ]
  },
  {
   "cell_type": "code",
   "execution_count": null,
   "id": "ad4880f5",
   "metadata": {},
   "outputs": [],
   "source": []
  }
 ],
 "metadata": {
  "kernelspec": {
   "display_name": "Python 3 (ipykernel)",
   "language": "python",
   "name": "python3"
  },
  "language_info": {
   "codemirror_mode": {
    "name": "ipython",
    "version": 3
   },
   "file_extension": ".py",
   "mimetype": "text/x-python",
   "name": "python",
   "nbconvert_exporter": "python",
   "pygments_lexer": "ipython3",
   "version": "3.11.5"
  }
 },
 "nbformat": 4,
 "nbformat_minor": 5
}
